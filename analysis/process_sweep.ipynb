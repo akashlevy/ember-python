{
 "cells": [
  {
   "cell_type": "markdown",
   "metadata": {},
   "source": [
    "# TODO: IMPROVE"
   ]
  },
  {
   "cell_type": "code",
   "execution_count": 19,
   "metadata": {},
   "outputs": [],
   "source": [
    "# Import external libraries\n",
    "import numpy as np\n",
    "import pandas as pd\n",
    "\n",
    "# Set VDDIO\n",
    "vddio = 33"
   ]
  },
  {
   "cell_type": "code",
   "execution_count": 20,
   "metadata": {},
   "outputs": [
    {
     "data": {
      "text/html": [
       "<div>\n",
       "<style scoped>\n",
       "    .dataframe tbody tr th:only-of-type {\n",
       "        vertical-align: middle;\n",
       "    }\n",
       "\n",
       "    .dataframe tbody tr th {\n",
       "        vertical-align: top;\n",
       "    }\n",
       "\n",
       "    .dataframe thead th {\n",
       "        text-align: right;\n",
       "    }\n",
       "</style>\n",
       "<table border=\"1\" class=\"dataframe\">\n",
       "  <thead>\n",
       "    <tr style=\"text-align: right;\">\n",
       "      <th></th>\n",
       "      <th>addr</th>\n",
       "      <th>t</th>\n",
       "      <th>vwl</th>\n",
       "      <th>vbl</th>\n",
       "      <th>pw</th>\n",
       "      <th>gi</th>\n",
       "      <th>gf</th>\n",
       "    </tr>\n",
       "  </thead>\n",
       "  <tbody>\n",
       "    <tr>\n",
       "      <th>0</th>\n",
       "      <td>46141</td>\n",
       "      <td>1.698431e+09</td>\n",
       "      <td>0</td>\n",
       "      <td>0</td>\n",
       "      <td>1</td>\n",
       "      <td>8</td>\n",
       "      <td>8</td>\n",
       "    </tr>\n",
       "    <tr>\n",
       "      <th>1</th>\n",
       "      <td>11735</td>\n",
       "      <td>1.698431e+09</td>\n",
       "      <td>0</td>\n",
       "      <td>1</td>\n",
       "      <td>1</td>\n",
       "      <td>7</td>\n",
       "      <td>7</td>\n",
       "    </tr>\n",
       "    <tr>\n",
       "      <th>2</th>\n",
       "      <td>41965</td>\n",
       "      <td>1.698431e+09</td>\n",
       "      <td>0</td>\n",
       "      <td>2</td>\n",
       "      <td>1</td>\n",
       "      <td>9</td>\n",
       "      <td>9</td>\n",
       "    </tr>\n",
       "    <tr>\n",
       "      <th>3</th>\n",
       "      <td>24212</td>\n",
       "      <td>1.698431e+09</td>\n",
       "      <td>0</td>\n",
       "      <td>3</td>\n",
       "      <td>1</td>\n",
       "      <td>7</td>\n",
       "      <td>7</td>\n",
       "    </tr>\n",
       "    <tr>\n",
       "      <th>4</th>\n",
       "      <td>63363</td>\n",
       "      <td>1.698431e+09</td>\n",
       "      <td>0</td>\n",
       "      <td>4</td>\n",
       "      <td>1</td>\n",
       "      <td>8</td>\n",
       "      <td>9</td>\n",
       "    </tr>\n",
       "    <tr>\n",
       "      <th>...</th>\n",
       "      <td>...</td>\n",
       "      <td>...</td>\n",
       "      <td>...</td>\n",
       "      <td>...</td>\n",
       "      <td>...</td>\n",
       "      <td>...</td>\n",
       "      <td>...</td>\n",
       "    </tr>\n",
       "    <tr>\n",
       "      <th>65531</th>\n",
       "      <td>23238</td>\n",
       "      <td>1.698433e+09</td>\n",
       "      <td>0</td>\n",
       "      <td>27</td>\n",
       "      <td>1</td>\n",
       "      <td>10</td>\n",
       "      <td>63</td>\n",
       "    </tr>\n",
       "    <tr>\n",
       "      <th>65532</th>\n",
       "      <td>31020</td>\n",
       "      <td>1.698433e+09</td>\n",
       "      <td>0</td>\n",
       "      <td>28</td>\n",
       "      <td>1</td>\n",
       "      <td>7</td>\n",
       "      <td>64</td>\n",
       "    </tr>\n",
       "    <tr>\n",
       "      <th>65533</th>\n",
       "      <td>55327</td>\n",
       "      <td>1.698433e+09</td>\n",
       "      <td>0</td>\n",
       "      <td>29</td>\n",
       "      <td>1</td>\n",
       "      <td>6</td>\n",
       "      <td>64</td>\n",
       "    </tr>\n",
       "    <tr>\n",
       "      <th>65534</th>\n",
       "      <td>57247</td>\n",
       "      <td>1.698433e+09</td>\n",
       "      <td>0</td>\n",
       "      <td>30</td>\n",
       "      <td>1</td>\n",
       "      <td>10</td>\n",
       "      <td>64</td>\n",
       "    </tr>\n",
       "    <tr>\n",
       "      <th>65535</th>\n",
       "      <td>44804</td>\n",
       "      <td>1.698433e+09</td>\n",
       "      <td>0</td>\n",
       "      <td>31</td>\n",
       "      <td>1</td>\n",
       "      <td>10</td>\n",
       "      <td>64</td>\n",
       "    </tr>\n",
       "  </tbody>\n",
       "</table>\n",
       "<p>3145728 rows × 7 columns</p>\n",
       "</div>"
      ],
      "text/plain": [
       "        addr             t  vwl  vbl  pw  gi  gf\n",
       "0      46141  1.698431e+09    0    0   1   8   8\n",
       "1      11735  1.698431e+09    0    1   1   7   7\n",
       "2      41965  1.698431e+09    0    2   1   9   9\n",
       "3      24212  1.698431e+09    0    3   1   7   7\n",
       "4      63363  1.698431e+09    0    4   1   8   9\n",
       "...      ...           ...  ...  ...  ..  ..  ..\n",
       "65531  23238  1.698433e+09    0   27   1  10  63\n",
       "65532  31020  1.698433e+09    0   28   1   7  64\n",
       "65533  55327  1.698433e+09    0   29   1   6  64\n",
       "65534  57247  1.698433e+09    0   30   1  10  64\n",
       "65535  44804  1.698433e+09    0   31   1  10  64\n",
       "\n",
       "[3145728 rows x 7 columns]"
      ]
     },
     "execution_count": 20,
     "metadata": {},
     "output_type": "execute_result"
    }
   ],
   "source": [
    "# SET sweep data\n",
    "setdata = pd.read_csv(f\"../data/sweep/setsweep{vddio}.csv.gz\", delimiter=\"\\t\", names=[\"addr\", \"t\", \"vwl\", \"vbl\", \"pw\"] + [f\"gi[{i}]\" for i in range(48)] + [f\"gf[{i}]\" for i in range(48)])\n",
    "setdata = pd.concat([setdata[[\"addr\",\"t\",\"vwl\",\"vbl\",\"pw\",f\"gi[{i}]\",f\"gf[{i}]\"]].rename(columns={f\"gi[{i}]\" : \"gi\", f\"gf[{i}]\" : \"gf\"}) for i in range(48)])\n",
    "setdata"
   ]
  },
  {
   "cell_type": "code",
   "execution_count": 21,
   "metadata": {},
   "outputs": [
    {
     "name": "stdout",
     "output_type": "stream",
     "text": [
      "{0: 0, 1: 0, 2: 0, 3: 0, 4: 0, 5: 0, 6: 0, 7: 0, 8: 0, 9: 0, 10: 0, 11: 0, 12: 0, 13: 0, 14: 0, 15: 0, 16: 0, 17: 0, 18: 1, 19: 2, 20: 2, 21: 2, 22: 2, 23: 2, 24: 2, 25: 2, 26: 2, 27: 2, 28: 2, 29: 2, 30: 2, 31: 2, 32: 2, 33: 2, 34: 2, 35: 3, 36: 3, 37: 3, 38: 3, 39: 3, 40: 3, 41: 4, 42: 4, 43: 4, 44: 4, 45: 5, 46: 5, 47: 6, 48: 6, 49: 7, 50: 8, 51: 9, 52: 9, 53: 9, 54: 10, 55: 11, 56: 11, 57: 12, 58: 13, 59: 13, 60: 14, 61: 15, 62: 16, 63: 30}\n"
     ]
    },
    {
     "data": {
      "text/plain": [
       "vbl\n",
       "0     18.000\n",
       "1     19.000\n",
       "2     35.000\n",
       "3     41.000\n",
       "4     45.000\n",
       "5     47.000\n",
       "6     49.000\n",
       "7     50.000\n",
       "8     51.631\n",
       "9     54.000\n",
       "10    55.000\n",
       "11    57.000\n",
       "12    58.000\n",
       "13    60.000\n",
       "14    61.000\n",
       "15    62.000\n",
       "16    63.000\n",
       "17    64.000\n",
       "18    64.000\n",
       "19    64.000\n",
       "20    64.000\n",
       "21    64.000\n",
       "22    64.000\n",
       "23    64.000\n",
       "24    64.000\n",
       "25    64.000\n",
       "26    64.000\n",
       "27    64.000\n",
       "28    64.000\n",
       "29    64.000\n",
       "30    64.000\n",
       "31    64.000\n",
       "Name: gf, dtype: float64"
      ]
     },
     "execution_count": 21,
     "metadata": {},
     "output_type": "execute_result"
    }
   ],
   "source": [
    "# Process SET sweep\n",
    "gf2vbl = {}\n",
    "gmax = 0\n",
    "d = setdata[(setdata[\"gi\"].isin(range(1,20))) & (setdata[\"pw\"] == 1) & (setdata[\"vwl\"] == 0)][[\"vwl\",\"vbl\",\"pw\",\"gi\",\"gf\"]]\n",
    "for vbl, data in d.groupby(\"vbl\"):\n",
    "    gf = int(data.quantile(0.999)[\"gf\"])\n",
    "    for g in range(gmax, gf):\n",
    "        gf2vbl[g] = vbl\n",
    "    gmax = gf\n",
    "gf2vbl[63] = 30\n",
    "print(gf2vbl)\n",
    "d.groupby(\"vbl\").quantile(0.999)[\"gf\"]"
   ]
  },
  {
   "cell_type": "code",
   "execution_count": 22,
   "metadata": {},
   "outputs": [
    {
     "data": {
      "text/plain": [
       "<AxesSubplot:xlabel='gf'>"
      ]
     },
     "execution_count": 22,
     "metadata": {},
     "output_type": "execute_result"
    },
    {
     "data": {
      "image/png": "[encoded data removed]",
      "text/plain": [
       "<Figure size 640x480 with 1 Axes>"
      ]
     },
     "metadata": {},
     "output_type": "display_data"
    }
   ],
   "source": [
    "# Plot start VBL\n",
    "gf2vbl = pd.DataFrame(gf2vbl.items(), columns=[\"gf\",\"vbl\"])\n",
    "gf\n",
    "gf2vbl.plot(\"gf\", \"vbl\")"
   ]
  }
 ],
 "metadata": {
  "kernelspec": {
   "display_name": "base",
   "language": "python",
   "name": "python3"
  },
  "language_info": {
   "codemirror_mode": {
    "name": "ipython",
    "version": 3
   },
   "file_extension": ".py",
   "mimetype": "text/x-python",
   "name": "python",
   "nbconvert_exporter": "python",
   "pygments_lexer": "ipython3",
   "version": "3.9.13"
  }
 },
 "nbformat": 4,
 "nbformat_minor": 2
}
