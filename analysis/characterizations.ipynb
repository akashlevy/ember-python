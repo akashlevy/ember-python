{
 "cells": [
  {
   "attachments": {},
   "cell_type": "markdown",
   "metadata": {},
   "source": [
    "# EMBER Characterizations Notebook\n",
    "\n",
    "This notebook contains all the methods for visualizing EMBER measurement data.\n",
    "\n",
    "## Import libraries\n",
    "\n",
    "External libraries: `matplotlib`, `numpy`, `scipy`, `pandas`."
   ]
  },
  {
   "cell_type": "code",
   "execution_count": null,
   "metadata": {},
   "outputs": [],
   "source": [
    "# Import internal libraries\n",
    "import json\n",
    "\n",
    "# Import custom libraries\n",
    "import ppf\n",
    "from ppf import PPFScale\n",
    "\n",
    "# Import external libraries\n",
    "import matplotlib.pyplot as plt\n",
    "import numpy as np\n",
    "import pandas as pd"
   ]
  },
  {
   "attachments": {},
   "cell_type": "markdown",
   "metadata": {},
   "source": [
    "## Pick VDDIO (VDDLS) to study\n",
    "\n",
    "Most experiments operate at some particular VDDLS value. Set that here."
   ]
  },
  {
   "cell_type": "code",
   "execution_count": null,
   "metadata": {},
   "outputs": [],
   "source": [
    "# Set VDDIO (times 10)\n",
    "vddio = 33"
   ]
  },
  {
   "attachments": {},
   "cell_type": "markdown",
   "metadata": {},
   "source": [
    "## RRAM FORM statistics\n",
    "\n",
    "Here, we plot the distribution of WL DAC levels needed to induce FORMing (at VDDLS=3.3V). Then we plot the distribution of the resultant final conductance values after FORMing."
   ]
  },
  {
   "cell_type": "code",
   "execution_count": null,
   "metadata": {},
   "outputs": [],
   "source": [
    "# Load log file\n",
    "names = [\"chip\", \"time\", \"addr\", \"operation\", \"mask\", \"wl_dac_lvl\", \"bsl_dac_lvl\", \"sa_do\", \"ignore\"]\n",
    "formdata = pd.read_csv(\"../data/form/form.5mhz.188cell.csv\", names=names, index_col=False)\n",
    "formdata.sa_do = formdata.sa_do.shift(-1, fill_value=0)\n",
    "formdata[\"nform\"] = formdata.sa_do.apply(lambda di: bin(di).count(\"1\"))\n",
    "formdata = formdata[formdata.operation == \"SET\"]\n",
    "\n",
    "# Figure for FORM-inducing WL DAC level statistics\n",
    "plt.figure(figsize=(5,3))\n",
    "formdata[formdata.operation == \"SET\"].groupby(\"wl_dac_lvl\").sum()[\"nform\"].plot.bar(width=1)\n",
    "plt.title(\"FORM-Inducing WL DAC Statistics (188x48 cells)\")\n",
    "plt.xlabel(\"WL DAC Level\")\n",
    "plt.ylabel(\"Frequency\")\n",
    "plt.text(100, 100, \"bl_dac_lvl=31\\nclk=5MHz\\npw=3us\\nread_dac_lvl=7\\nclamp_ref_lvl=1\\nform_thresh=32\")\n",
    "plt.locator_params(nbins=10)\n",
    "plt.tight_layout()\n",
    "plt.savefig(\"figs/form.wl.stats.pdf\")"
   ]
  },
  {
   "cell_type": "code",
   "execution_count": null,
   "metadata": {},
   "outputs": [],
   "source": [
    "# Load log file\n",
    "names = [\"addr\", \"time\"] + [\"read_\" + str(i) for i in range(48)]\n",
    "formreaddata = pd.read_csv(\"../data/form/form.csv\", names=names, index_col=False, delimiter=\"\\t\")\n",
    "formdata = np.delete(formreaddata[formreaddata.columns[-48:]].values, [19, 29, 38, 43], axis=1).flatten()\n",
    "\n",
    "# Figure for post-FORM READ statistics\n",
    "plt.figure(figsize=(5,3))\n",
    "plt.hist(formdata)\n",
    "plt.title(\"Post-FORM READ Statistics\")\n",
    "plt.xlabel(\"READ Ref Level\")\n",
    "plt.ylabel(\"Frequency\")\n",
    "plt.tight_layout()\n",
    "plt.savefig(\"figs/form.read.stats.pdf\")"
   ]
  },
  {
   "cell_type": "code",
   "execution_count": null,
   "metadata": {},
   "outputs": [],
   "source": [
    "# Load log file\n",
    "names = [\"addr\", \"time\"] + [\"read_\" + str(i) for i in range(48)]\n",
    "resetdata = pd.read_csv(\"../readall.csv\", names=names, index_col=False, delimiter=\"\\t\")\n",
    "resetdata = resetdata[resetdata.columns[-48:]].values\n",
    "# resetdata = np.delete(resetdata[resetdata.columns[-48:]].values, [7, 16, 19, 23, 24, 29, 38, 39, 43], axis=1)\n",
    "resetdata = resetdata.flatten()\n",
    "\n",
    "# Figure for post-RESET READ statistics\n",
    "plt.figure(figsize=(5,3))\n",
    "plt.hist(resetdata)\n",
    "plt.title(\"Post-RESET READ Statistics\")\n",
    "plt.xlabel(\"READ Ref Level\")\n",
    "plt.ylabel(\"Frequency\")\n",
    "plt.tight_layout()\n",
    "plt.savefig(\"figs/reset.read.stats.pdf\")\n",
    "np.unique(resetdata, return_counts=True)"
   ]
  },
  {
   "attachments": {},
   "cell_type": "markdown",
   "metadata": {},
   "source": [
    "## Checkerboard demo\n",
    "\n",
    "Here, we plot programmed checkerboard patterns to demonstrate 1-4bpc programmability. We also indicate the Gray code BER and linear root mean squared error (RMSE) of the measured values from the programmed values."
   ]
  },
  {
   "cell_type": "code",
   "execution_count": null,
   "metadata": {},
   "outputs": [],
   "source": [
    "# Produce checkerboard plots for 1-4 bpc\n",
    "confmats = []\n",
    "fig, axs = plt.subplots(2, 2, sharex=True, figsize=(5,4))\n",
    "for bpc in range(1, 5):\n",
    "  # Subplot\n",
    "  plt.subplot(220 + bpc)\n",
    "\n",
    "  # Load data\n",
    "  names = [\"addr\", \"time\"] + [\"read_\" + str(i) for i in range(48)]\n",
    "  data = pd.read_csv(f\"../data/cb/{bpc}bpc.csv\", sep=\"\\t\", names=names)\n",
    "\n",
    "  # Show multi-bit result\n",
    "  matdata = data[data.columns[-48:]].values[:48]\n",
    "  im = plt.imshow(matdata, vmin=0, vmax=2**bpc-1)\n",
    "  cbar = plt.colorbar(im, fraction=0.04, pad=0.04)\n",
    "  if bpc != 4:\n",
    "    cbar.set_ticks(range(2**bpc))\n",
    "  # cbar.set_label(\"READ Value\")\n",
    "  plt.title(f\"{bpc}bpc\", x=0.5, y=0.5, verticalalignment=\"center\", horizontalalignment=\"center\", backgroundcolor=\"white\", fontweight=\"bold\")\n",
    "  if bpc > 2:\n",
    "    plt.xlabel(\"Bit Index\")\n",
    "  if bpc % 2 == 1:\n",
    "    plt.ylabel(\"Address\")\n",
    "\n",
    "  # Load data into confmat\n",
    "  confmat = np.zeros(shape=(2**bpc, 2**bpc))\n",
    "  for i in range(48):\n",
    "    for j in range(48):\n",
    "      confmat[(data[\"addr\"][i] + j) % (2**bpc)][matdata[i][j]] += 1\n",
    "  confmat = confmat.astype(int)\n",
    "  print(confmat)\n",
    "\n",
    "  # Symbol error magnitudes\n",
    "  mae = sum(abs(i - j) * confmat[i][j] for i in range(2**bpc) for j in range(2**bpc)) / confmat.sum()\n",
    "  rmse = np.sqrt(sum((i - j)**2 * confmat[i][j] for i in range(2**bpc) for j in range(2**bpc)) / confmat.sum())\n",
    "\n",
    "  # Function to get Gray code string\n",
    "  getgray = lambda x : format(2**(2**bpc) + x^x//2, f\"0{2**bpc-1}b\")[1:]\n",
    "\n",
    "  # Function to get Gray code error rate for each possible symbol confusion\n",
    "  grayerr = np.array([[sum([int(ic != jc) for ic, jc in zip(getgray(i), getgray(j))]) for i in range(2**bpc)] for j in range(2**bpc)]) / bpc\n",
    "  # print(grayerr)\n",
    "\n",
    "  # BER\n",
    "  ber = (grayerr * confmat).sum() / confmat.sum()\n",
    "  plt.text(0.5*48, 0.7*48, f\"Gray BER = \" + format(ber*100, \".2f\") + \"%\\nLinear RMSE = \" + format(rmse, \".2f\"), fontsize=8, verticalalignment=\"center\", horizontalalignment=\"center\", backgroundcolor=\"white\")\n",
    "\n",
    "  # Set ticks\n",
    "  plt.xticks([0,16,32,47])\n",
    "  plt.yticks([0,16,32,47])\n",
    "plt.tight_layout()\n",
    "plt.subplots_adjust(hspace=0, wspace=0.5)\n",
    "plt.tight_layout()\n",
    "plt.savefig(\"figs/cb.pdf\")\n",
    "plt.show()\n",
    "\n",
    "def binary_to_gray_op(n):\n",
    "  n = int(n, 2)\n",
    "  n ^= (n >> 1)\n",
    "  return bin(n)[2:]"
   ]
  },
  {
   "attachments": {},
   "cell_type": "markdown",
   "metadata": {},
   "source": [
    "## Conductance level visualization\n",
    "\n",
    "Here, we plot the READ/WRITE level boundaries."
   ]
  },
  {
   "cell_type": "code",
   "execution_count": null,
   "metadata": {},
   "outputs": [],
   "source": [
    "# Plot conductance ranges\n",
    "fig, axs = plt.subplots(2, 2, sharex=True, figsize=(6,3))\n",
    "for bpc in range(1, 5):\n",
    "    # Subplot\n",
    "    plt.subplot(220 + bpc)\n",
    "    \n",
    "    # Load settings\n",
    "    settings = json.load(open(f\"../settings/{bpc}bpc.json\"))\n",
    "    \n",
    "    # Plot\n",
    "    plt.axvline(0, 0, 1, color='r', label=\"Read Boundary\" if bpc == 1 else None)\n",
    "    for level in settings[\"level_settings\"]:\n",
    "        plt.axvline(level[\"adc_upper_read_ref_lvl\"], 0, 1, color='r')\n",
    "        plt.axvline(level[\"adc_lower_write_ref_lvl\"], 0, 0.5, color='g', linestyle='--')\n",
    "        plt.axvline(level[\"adc_upper_write_ref_lvl\"], 0, 0.5, color='g', linestyle='--', label=\"Write Boundary\" if bpc == 1 and level[\"adc_upper_write_ref_lvl\"] == 63 else None)\n",
    "    plt.xlim(-0.5, 63.5)\n",
    "    plt.gca().get_yaxis().set_visible(False)\n",
    "    plt.title(f\"{bpc}bpc Level Allocation\", backgroundcolor=\"white\", y=1, pad=-14)\n",
    "    if bpc > 2:\n",
    "        plt.xlabel(\"ADC Level\")\n",
    "lgd = fig.legend(loc=\"center\", bbox_to_anchor=(0.51, 1), ncol=2)\n",
    "plt.tight_layout()\n",
    "plt.savefig(\"figs/levels.pdf\", bbox_extra_artists=(lgd,), bbox_inches=\"tight\")\n",
    "plt.show()"
   ]
  },
  {
   "attachments": {},
   "cell_type": "markdown",
   "metadata": {},
   "source": [
    "## Endurance\n",
    "\n",
    "Here, we show so endurance cycling data caused by SET/RESET loops (without verify), with READs performed intermittently."
   ]
  },
  {
   "cell_type": "code",
   "execution_count": null,
   "metadata": {},
   "outputs": [],
   "source": [
    "# Load endurance and show an example\n",
    "names = [\"addr\", \"i\", \"Cycle #\", \"RESET\", \"SET\"]\n",
    "data = pd.read_csv(f\"../data/endurance/endurance.csv.gz\", delimiter='\\t', names=names)\n",
    "data = data[data[\"addr\"] == 10900]\n",
    "data = data[data[\"i\"] == 9]\n",
    "plt.rcParams[\"figure.figsize\"] = (5,3)\n",
    "data.groupby(\"i\").plot(\"Cycle #\", [\"SET\", \"RESET\"], title=\"Endurance Cycling Behavior\", ylabel=\"ADC Level\")\n",
    "plt.tight_layout()\n",
    "plt.savefig(\"figs/endurance.pdf\")\n",
    "plt.show()"
   ]
  },
  {
   "attachments": {},
   "cell_type": "markdown",
   "metadata": {},
   "source": [
    "## Retention data\n",
    "Here, we show the sigma vs. mu for conductance level allocation, and also plot the conductance distributions of each programmed level at time `t`. "
   ]
  },
  {
   "cell_type": "code",
   "execution_count": null,
   "metadata": {},
   "outputs": [],
   "source": [
    "# Load retention time data\n",
    "tdata = pd.read_csv(\"../w32.min.csv.gz\")\n",
    "tdata"
   ]
  },
  {
   "cell_type": "code",
   "execution_count": null,
   "metadata": {},
   "outputs": [],
   "source": [
    "# Plot frequency of each level to check\n",
    "plt.rcParams[\"figure.figsize\"] = [9, 4]\n",
    "tdata.groupby(\"lvli\").count()[\"lvl\"].plot.bar()\n",
    "plt.ylabel(\"Frequency\")\n",
    "plt.tight_layout()\n",
    "plt.show()"
   ]
  },
  {
   "cell_type": "code",
   "execution_count": null,
   "metadata": {},
   "outputs": [],
   "source": [
    "# Show distribution\n",
    "plt.rcParams[\"figure.figsize\"] = [6, 4]\n",
    "plt.title(\"MLC Distributions (1024 cells w/64 levels, ~3hrs)\")\n",
    "for time in [0]:\n",
    "    d = tdata[(tdata[\"timept\"] == time)]\n",
    "    for i in range(64):\n",
    "        rdata = d[(d[\"lvli\"] == i)]\n",
    "        print(rdata)\n",
    "        if len(rdata) != 0:\n",
    "            plt.plot(sorted(rdata[\"lvl\"].values * 4), np.linspace(0+1/len(rdata), 1-1/len(rdata), len(rdata)), label=i)\n",
    "plt.xlabel(\"Programmed Conductance (μS)\")\n",
    "plt.ylabel(\"Cumulative Distribution Function\")\n",
    "plt.gca().set_yscale(\"ppf\")\n",
    "# plt.hlines([0.006, 0.994], 0, 256, colors=\"black\", linestyles=\"--\")\n",
    "plt.vlines(np.array([25,43,54])*4, 0.001, 0.999, colors=\"black\", linestyles=\"-\", alpha=0.2)\n",
    "plt.xlim(0, 257)\n",
    "plt.ylim(0.001, 0.999)\n",
    "plt.tight_layout()\n",
    "plt.savefig(\"figs/mlcdist.pdf\")\n",
    "# plt.legend()\n",
    "plt.show()"
   ]
  },
  {
   "attachments": {},
   "cell_type": "markdown",
   "metadata": {},
   "source": [
    "## SET/RESET final conductance sweeps\n",
    "\n",
    "We test the effect of pulses with different {VWL, VBL, pw, gi} combos on final conductance gf.\n",
    "\n",
    "### SET sweep"
   ]
  },
  {
   "cell_type": "code",
   "execution_count": null,
   "metadata": {},
   "outputs": [],
   "source": [
    "# SET sweep data\n",
    "setdata = pd.read_csv(f\"../data/sweep/setsweep{vddio}.csv\", delimiter=\"\\t\", names=[\"addr\", \"t\", \"vwl\", \"vbl\", \"pw\"] + [f\"gi[{i}]\" for i in range(48)] + [f\"gf[{i}]\" for i in range(48)])\n",
    "setdata = pd.concat([setdata[[\"addr\",\"t\",\"vwl\",\"vbl\",\"pw\",f\"gi[{i}]\",f\"gf[{i}]\"]].rename(columns={f\"gi[{i}]\" : \"gi\", f\"gf[{i}]\" : \"gf\"}) for i in range(48)])\n",
    "setdata"
   ]
  },
  {
   "cell_type": "code",
   "execution_count": null,
   "metadata": {},
   "outputs": [],
   "source": [
    "# SET sweep gi sampling frequency check\n",
    "setdata[\"gi\"].plot.hist(bins=np.arange(-0.5, 65.5))\n",
    "plt.title(\"SET Sweep $g_i$ Sampling Frequency\")\n",
    "plt.xlabel(\"Initial ADC Level\")\n",
    "plt.show()"
   ]
  },
  {
   "cell_type": "code",
   "execution_count": null,
   "metadata": {},
   "outputs": [],
   "source": [
    "# Plot SET sweep\n",
    "d = setdata[(setdata[\"gi\"].isin(range(1,20))) & (setdata[\"pw\"] == 1) & (setdata[\"vwl\"] == 0)][[\"vwl\",\"vbl\",\"pw\",\"gi\",\"gf\"]]\n",
    "d[\"vbl\"] = (d[\"vbl\"]*2.1/31) + 1\n",
    "fig = plt.figure()\n",
    "ax = plt.axes()\n",
    "ax.scatter(d[\"vbl\"], d[\"gi\"]*4, marker=\".\", alpha=0.002, label=\"$g_i$\")\n",
    "ax.scatter(d[\"vbl\"], d[\"gf\"]*4, marker=\".\", alpha=0.002, label=\"$g_f$\")\n",
    "(d.groupby(\"vbl\")[\"gi\"].mean() * 4).plot(color=\"green\", linestyle=\"--\", label=\"Mean $g_i$\")\n",
    "(d.groupby(\"vbl\")[\"gf\"].mean() * 4).plot(color=\"red\", label=\"Mean $g_f$\")\n",
    "ax.set_title(f\"SET Sweep ($V_{{DDLS}}$ = {vddio/10}V, $t_{{pw}}$ = 10ns, min $V_{{WL}}$)\", y=1)\n",
    "ax.set_xlabel(\"Estimated BL DAC Voltage $V_{BL}$ (V)\")\n",
    "ax.set_ylabel(\"Final Conductance (μS)\")\n",
    "legend = ax.legend()\n",
    "for lh in legend.legendHandles: \n",
    "    lh.set_alpha(1)\n",
    "plt.savefig(f\"figs/setsweep{vddio}_bl.pdf\")"
   ]
  },
  {
   "attachments": {},
   "cell_type": "markdown",
   "metadata": {},
   "source": [
    "### RESET sweep"
   ]
  },
  {
   "cell_type": "code",
   "execution_count": null,
   "metadata": {},
   "outputs": [],
   "source": [
    "# RESET sweep data\n",
    "resetdata = pd.read_csv(f\"../data/sweep/resetsweep{vddio}.csv\", delimiter=\"\\t\", names=[\"addr\", \"t\", \"vwl\", \"vsl\", \"pw\"] + [f\"gi[{i}]\" for i in range(48)] + [f\"gf[{i}]\" for i in range(48)])\n",
    "resetdata = pd.concat([resetdata[[\"addr\",\"t\",\"vwl\",\"vsl\",\"pw\",f\"gi[{i}]\",f\"gf[{i}]\"]].rename(columns={f\"gi[{i}]\" : \"gi\", f\"gf[{i}]\" : \"gf\"}) for i in range(48)])\n",
    "resetdata"
   ]
  },
  {
   "cell_type": "code",
   "execution_count": null,
   "metadata": {},
   "outputs": [],
   "source": [
    "# RESET sweep gi sampling frequency check\n",
    "plt.figure()\n",
    "resetdata[\"gi\"].plot.hist(bins=np.arange(-0.5, 65.5))\n",
    "plt.title(\"RESET Sweep $g_i$ Sampling Frequency\")\n",
    "plt.xlabel(\"Initial ADC Level\")\n",
    "plt.show()"
   ]
  },
  {
   "cell_type": "code",
   "execution_count": null,
   "metadata": {},
   "outputs": [],
   "source": [
    "# Plot RESET sweep\n",
    "d = resetdata[(resetdata[\"gi\"].isin(range(56,65))) & (resetdata[\"pw\"] == 1) & (resetdata[\"vwl\"] == 0)][[\"vwl\",\"vsl\",\"pw\",\"gi\",\"gf\"]]\n",
    "d[\"vsl\"] = (d[\"vsl\"]*2.1/31) + 1\n",
    "fig = plt.figure()\n",
    "ax = plt.axes()\n",
    "ax.scatter(d[\"vsl\"], d[\"gi\"]*4, marker=\".\", alpha=0.002, label=\"$g_i$\")\n",
    "ax.scatter(d[\"vsl\"], d[\"gf\"]*4, marker=\".\", alpha=0.002, label=\"$g_f$\")\n",
    "(d.groupby(\"vsl\")[\"gi\"].mean() * 4).plot(color=\"green\", linestyle=\"--\", label=\"Mean $g_i$\")\n",
    "(d.groupby(\"vsl\")[\"gf\"].mean() * 4).plot(color=\"red\", label=\"Mean $g_f$\")\n",
    "ax.set_title(f\"RESET Sweep ($V_{{DDLS}}$ = {vddio/10}V, $t_{{pw}}$ = 10ns, min $V_{{WL}}$)\", y=1)\n",
    "ax.set_xlabel(\"Estimated SL DAC Voltage $V_{SL}$ (V)\")\n",
    "ax.set_ylabel(\"Final Conductance (μS)\")\n",
    "legend = ax.legend()\n",
    "for lh in legend.legendHandles: \n",
    "    lh.set_alpha(1)\n",
    "plt.savefig(f\"figs/resetsweep{vddio}_sl.pdf\")"
   ]
  },
  {
   "cell_type": "code",
   "execution_count": null,
   "metadata": {},
   "outputs": [],
   "source": [
    "# Plot RESET PW sweep\n",
    "d = resetdata[resetdata[\"gi\"].isin(range(55,65)) & resetdata[\"vsl\"].isin([31]) & (resetdata[\"vwl\"] == 0)][[\"vwl\",\"vsl\",\"pw\",\"gi\",\"gf\"]]\n",
    "fig = plt.figure()\n",
    "ax = plt.axes()\n",
    "ax.scatter(d[\"pw\"], d[\"gi\"]*4, marker=\".\", alpha=0.002, label=\"$g_i$\")\n",
    "ax.scatter(d[\"pw\"], d[\"gf\"]*4, marker=\".\", alpha=0.002, label=\"$g_f$\")\n",
    "(d.groupby(\"pw\")[\"gi\"].mean() * 4).plot(color=\"green\", linestyle=\"--\", label=\"Mean $g_i$\")\n",
    "(d.groupby(\"pw\")[\"gf\"].mean() * 4).plot(color=\"red\", label=\"Mean $g_f$\")\n",
    "ax.set_title(f\"RESET Sweep ($V_{{DDLS}}$ = {vddio/10}V, max $V_{{WL}}$, max $V_{{SL}}$)\", y=1)\n",
    "ax.set_xlabel(\"Pulse Width (ns)\")\n",
    "ax.set_xscale(\"log\")\n",
    "ax.set_ylabel(\"Final Conductance (μS)\")\n",
    "legend = ax.legend()\n",
    "for lh in legend.legendHandles: \n",
    "    lh.set_alpha(1)\n",
    "plt.savefig(f\"figs/resetsweep{vddio}_pw.pdf\")"
   ]
  },
  {
   "attachments": {},
   "cell_type": "markdown",
   "metadata": {},
   "source": [
    "## SET/RESET Power\n",
    "\n",
    "In this section, we measure SET/RESET power across different pulse conditions.\n",
    "\n",
    "### SET Pulse Power"
   ]
  },
  {
   "cell_type": "code",
   "execution_count": null,
   "metadata": {},
   "outputs": [],
   "source": [
    "# Load data and convert voltage/current to power\n",
    "edatas = []\n",
    "for i in range(3):\n",
    "    vs = [\"vdd\", \"vdd_dac\", \"vsa\", \"vddio\", \"vddio_dac\"]\n",
    "    edata = pd.read_csv(f\"../data/power/setpower{vddio}_x{i}.csv\", delimiter=\"\\t\", names=[\"time\", \"vwl\", \"vbl\", \"pw\", \"i(vdd)\", \"i(vdd_dac)\", \"i(vsa)\", \"i(vddio)\", \"i(vddio_dac)\", \"v(vddio)\", \"v(vddio_dac)\"])\n",
    "    edata[\"v(vdd)\"] = edata[\"v(vdd_dac)\"] = edata[\"v(vsa)\"] = 0.9\n",
    "    for v in vs:\n",
    "      edata[f\"p({v})\"] = edata[f\"v({v})\"] * edata[f\"i({v})\"]\n",
    "    edata[\"totpow\"] = sum([edata[f\"p({v})\"] for v in vs])\n",
    "    edata[\"n\"] = i\n",
    "    edatas.append(edata)\n",
    "edata = pd.concat(edatas)\n",
    "edata"
   ]
  },
  {
   "cell_type": "code",
   "execution_count": null,
   "metadata": {},
   "outputs": [],
   "source": [
    "# 3-D plot of pulse power vs. {VWL, VBL, number of bits unmasked}\n",
    "fig = plt.figure(figsize=(5.5, 4.5))\n",
    "ax = plt.axes(projection='3d')\n",
    "ax.set_title(f\"SET Pulse Power ($V_{{DDLS}}$ = {vddio/10}V, $t_{{pw}}$ = 40µs, HRS)\", y=1)\n",
    "ax.set_xlabel(\"BL DAC Level\")\n",
    "ax.set_ylabel(\"WL DAC Level\")\n",
    "ax.set_zlabel(\"Total Power (mW)\")\n",
    "for i in range(3):\n",
    "    e = edata[edata['n'] == i]\n",
    "    surf = ax.plot_trisurf(e['vbl'], e['vwl'], e['totpow'] * 1000, label=f\"{i} unmasked bits\", alpha=0.75)\n",
    "    surf._facecolors2d = surf._facecolor3d\n",
    "    surf._edgecolors2d = surf._edgecolor3d\n",
    "ax.legend(loc=(0.05, 0.7))\n",
    "plt.tight_layout()\n",
    "plt.savefig(f\"figs/setpower{vddio}.pdf\")\n",
    "plt.show()"
   ]
  },
  {
   "attachments": {},
   "cell_type": "markdown",
   "metadata": {},
   "source": [
    "### RESET Pulse Power"
   ]
  },
  {
   "cell_type": "code",
   "execution_count": null,
   "metadata": {},
   "outputs": [],
   "source": [
    "# Load data and convert voltage/current to power\n",
    "edatas = []\n",
    "for i in range(3):\n",
    "    vs = [\"vdd\", \"vdd_dac\", \"vsa\", \"vddio\", \"vddio_dac\"]\n",
    "    edata = pd.read_csv(f\"../data/power/resetpower{vddio}_x{i}.csv\", delimiter=\"\\t\", names=[\"time\", \"vwl\", \"vsl\", \"pw\", \"i(vdd)\", \"i(vdd_dac)\", \"i(vsa)\", \"i(vddio)\", \"i(vddio_dac)\", \"v(vddio)\", \"v(vddio_dac)\"])\n",
    "    edata[\"v(vdd)\"] = edata[\"v(vdd_dac)\"] = edata[\"v(vsa)\"] = 0.9\n",
    "    for v in vs:\n",
    "      edata[f\"p({v})\"] = edata[f\"v({v})\"] * edata[f\"i({v})\"]\n",
    "    edata[\"totpow\"] = sum([edata[f\"p({v})\"] for v in vs])\n",
    "    edata[\"n\"] = i\n",
    "    edatas.append(edata)\n",
    "edata = pd.concat(edatas)\n",
    "edata"
   ]
  },
  {
   "cell_type": "code",
   "execution_count": null,
   "metadata": {},
   "outputs": [],
   "source": [
    "# 3-D plot of pulse power vs. {VWL, VSL, number of bits unmasked}\n",
    "fig = plt.figure(figsize=(5.5, 4.5))\n",
    "ax = plt.axes(projection='3d')\n",
    "ax.set_title(f\"RESET Pulse Power ($V_{{DDLS}}$ = {vddio/10}V, $t_{{pw}}$ = 40µs, LRS)\", y=1)\n",
    "ax.set_xlabel(\"SL DAC Level\")\n",
    "ax.set_ylabel(\"WL DAC Level\")\n",
    "ax.set_zlabel(\"Total Power (mW)\")\n",
    "for i in range(3):\n",
    "    e = edata[edata['n'] == i]\n",
    "    surf = ax.plot_trisurf(e['vsl'], e['vwl'], e['totpow'] * 1000, label=f\"{i} unmasked bits\", alpha=0.75)\n",
    "    surf._facecolors2d = surf._facecolor3d\n",
    "    surf._edgecolors2d = surf._edgecolor3d\n",
    "ax.legend(loc=(0.05, 0.7))\n",
    "plt.tight_layout()\n",
    "plt.savefig(f\"figs/resetpower{vddio}.pdf\")\n",
    "plt.show()"
   ]
  }
 ],
 "metadata": {
  "kernelspec": {
   "display_name": "Python 3 (ipykernel)",
   "language": "python",
   "name": "python3"
  },
  "language_info": {
   "codemirror_mode": {
    "name": "ipython",
    "version": 3
   },
   "file_extension": ".py",
   "mimetype": "text/x-python",
   "name": "python",
   "nbconvert_exporter": "python",
   "pygments_lexer": "ipython3",
   "version": "3.9.13"
  },
  "vscode": {
   "interpreter": {
    "hash": "c30f2af5f468e7f5b45bcc30fca5f4886c90d54777aed916ed5f6294dfb24bf2"
   }
  }
 },
 "nbformat": 4,
 "nbformat_minor": 2
}
