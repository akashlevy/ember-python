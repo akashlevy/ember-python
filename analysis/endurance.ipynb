{
 "cells": [
  {
   "cell_type": "code",
   "execution_count": 24,
   "metadata": {},
   "outputs": [],
   "source": [
    "# Import libraries\n",
    "import glob\n",
    "import matplotlib.pyplot as plt\n",
    "import numpy as np\n",
    "import pandas as pd"
   ]
  },
  {
   "cell_type": "code",
   "execution_count": 25,
   "metadata": {},
   "outputs": [],
   "source": [
    "fig, axs = plt.subplots(2, 1, figsize=(4,6), sharex=True)\n",
    "axs[0].set_title(\"10K Endurance for 1-2 bpc (128 words)\")\n",
    "axs[0].set_ylabel(\"Write Bandwidth (Mbps)\")\n",
    "axs[1].set_xlabel(\"Number of Write Cycles\")\n",
    "axs[1].set_ylabel(\"Cell Write Failure Rate\")\n",
    "plt.ticklabel_format(axis=\"both\", style=\"sci\", scilimits=(0,0))\n",
    "for fname in sorted(glob.glob(\"../data/endurance/*_endurance.csv.gz\")):\n",
    "    # Load data\n",
    "    nrows = 128 if \"lfsr\" in fname else 127\n",
    "    ncols = 48 - np.loadtxt(\"../settings/dead_columns.csv\", delimiter=\",\").size\n",
    "    data = pd.read_csv(fname, delimiter=\"\\t\", names=[\"t\", \"successes\", \"failures\", \"reads\", \"sets\", \"resets\", \"cycles\", \"read_bits\", \"set_bits\", \"reset_bits\", ])\n",
    "    data = data.drop_duplicates(subset=[\"successes\",\"failures\",\"cycles\"]).reset_index()\n",
    "    \n",
    "    # Deal with discontinuities due to multiple measurements\n",
    "    aliaspts = data[data[\"cycles\"].diff() < 0].index.values\n",
    "    for aliaspt in aliaspts:\n",
    "        data.loc[(data.index > aliaspt) & ~data.index.isin(aliaspts-1)] += data.iloc[aliaspt-1]\n",
    "    data = data[~data.index.isin(aliaspts) & ~data.index.isin(aliaspts-1)]\n",
    "\n",
    "    # Select points over log space\n",
    "    data = data.reset_index()\n",
    "    data = data[data.index.isin(np.logspace(1, 6.2, 100).astype(int))]\n",
    "\n",
    "    data[\"bw\"] = ncols*data[\"successes\"].diff()/(data[\"cycles\"].diff()*10e-9)\n",
    "    data[\"cycle\"] = data[\"successes\"]/nrows\n",
    "    data[\"wer\"] = data[\"failures\"].diff()/data[\"successes\"].diff()/ncols\n",
    "    data = data[data[\"cycle\"] >= 10]\n",
    "    data.dropna(inplace=True)\n",
    "\n",
    "    axs[0].plot(data[\"cycle\"], data[\"bw\"]/1e6, label=fname.split(\"_endurance\")[0].split(\"/\")[-1])\n",
    "    axs[1].plot(data[\"cycle\"], data[\"wer\"], label=fname.split(\"_endurance\")[0].split(\"/\")[-1])\n",
    "axs[0].vlines([1e4], ymin=3e-1, ymax=2e1, color=\"gray\", linestyles=[\"dashed\"])\n",
    "# axs[1].hlines([2e-4], xmin=10, xmax=1e5, color=\"gray\", linestyles=[\"dashed\"])\n",
    "axs[1].vlines([1e4], ymin=0, ymax=1e-3, color=\"gray\", linestyles=[\"dashed\"])\n",
    "axs[0].set_xlim(10,1e5)\n",
    "axs[0].set_ylim(3e-1,2e1)\n",
    "axs[1].set_xlim(10,1e5)\n",
    "axs[1].set_ylim(0,1e-3)\n",
    "axs[0].set_xscale(\"log\")\n",
    "axs[0].set_yscale(\"log\")\n",
    "axs[1].legend()\n",
    "plt.show()"
   ]
  }
 ],
 "metadata": {
  "kernelspec": {
   "display_name": "base",
   "language": "python",
   "name": "python3"
  },
  "language_info": {
   "codemirror_mode": {
    "name": "ipython",
    "version": 3
   },
   "file_extension": ".py",
   "mimetype": "text/x-python",
   "name": "python",
   "nbconvert_exporter": "python",
   "pygments_lexer": "ipython3",
   "version": "3.9.13"
  }
 },
 "nbformat": 4,
 "nbformat_minor": 2
}
